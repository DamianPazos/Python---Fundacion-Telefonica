{
 "cells": [
  {
   "cell_type": "markdown",
   "metadata": {},
   "source": [
    "<h1>Ejercicio N°1</h2>\n",
    "<h3>Crear una función que reciba una cantidad variable de números enteros y retorne la suma de todos. Por ejemplo, si le pasamos los números 1,3 y 5, deberá devolver el número 9. El código debe funcionar para cualquier cantidad de números que le pasemos como argumentos.</h3>"
   ]
  },
  {
   "cell_type": "code",
   "execution_count": 1,
   "metadata": {},
   "outputs": [
    {
     "name": "stdout",
     "output_type": "stream",
     "text": [
      "15\n"
     ]
    }
   ],
   "source": [
    "def suma_numeros(*args):\n",
    "    suma = 0\n",
    "    for i in args:\n",
    "        suma += i\n",
    "    return suma\n",
    "        \n",
    "print(suma_numeros(1,5,3,5,1))        "
   ]
  },
  {
   "cell_type": "markdown",
   "metadata": {},
   "source": [
    "<h1>Ejercicio N°2</h2>\n",
    "<h3>Escribir una función que, a partir de una lista pasada como argumento, retorne una lista de tuplas conteniendo todas las combinaciones de 2 números que sea posible formar, combinando a cada número con todos los números de la lista</h3>"
   ]
  },
  {
   "cell_type": "code",
   "execution_count": 2,
   "metadata": {},
   "outputs": [],
   "source": [
    "def conjunto_tuplas(lista):\n",
    "    lista_tuplas = []\n",
    "    for i in lista:\n",
    "        for x in lista:\n",
    "            tupla = (i,x)\n",
    "            lista_tuplas.append(tupla)\n",
    "    return lista_tuplas"
   ]
  }
 ],
 "metadata": {
  "kernelspec": {
   "display_name": "Python 3.10.2 64-bit",
   "language": "python",
   "name": "python3"
  },
  "language_info": {
   "codemirror_mode": {
    "name": "ipython",
    "version": 3
   },
   "file_extension": ".py",
   "mimetype": "text/x-python",
   "name": "python",
   "nbconvert_exporter": "python",
   "pygments_lexer": "ipython3",
   "version": "3.10.2"
  },
  "orig_nbformat": 4,
  "vscode": {
   "interpreter": {
    "hash": "60a02e4f58a95e140975077107666d45fd409c0834523c3ca1606b08608b094a"
   }
  }
 },
 "nbformat": 4,
 "nbformat_minor": 2
}

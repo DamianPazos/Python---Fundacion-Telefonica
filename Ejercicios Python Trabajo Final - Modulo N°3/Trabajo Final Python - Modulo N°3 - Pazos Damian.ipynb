{
 "cells": [
  {
   "cell_type": "markdown",
   "metadata": {},
   "source": [
    "<h1>Ejercicio N°1</h1>\n",
    "<h4>\n",
    "Escribir una clase llamada “Alumno” que contenga los siguientes atributos:</br>\n",
    "Nombre</br>\n",
    "Apellido</br>\n",
    "Notas (este atributo debe ser una lista)</br>\n",
    "Escribir el método constructor para que, al instanciar la clase, pida por teclado el Nombre, el Apellido y una serie de notas, tantas como quiera ingresar el usuario.Las notas deberán estar comprendidas entre 1 y 10, caso contrario mostrar mensaje de error y volver a solicitar.\n",
    "El ingreso de notas acaba cuando el usuario ingresa el valor 0 (cero)\n",
    "Sobre escribir el método STR para que, al mostrar el objeto por pantalla, muestre los datos de la siguiente manera:</br>\n",
    "Nombre: (valor ingresado)</br>\n",
    "Apellido: (valor ingresado)</br>\n",
    "Promedio: (promedio de las notas ingresadas)</br>\n",
    "Estado: Si el promedio es mayor o igual a 7, mostrar la palabra “Promociona”, si es menor a 7 pero mayor o igual a 4, mostrar la palabra “Final” y por último, si el promedio es menor a 4, mostrar la palabra “Recursa”\n",
    "</h4>"
   ]
  },
  {
   "cell_type": "code",
   "execution_count": 1,
   "metadata": {},
   "outputs": [],
   "source": [
    "class Alumno:\n",
    "    \n",
    "    notas = []\n",
    "    promedio = 0\n",
    "    \n",
    "    # Constructor\n",
    "    def __init__(self):\n",
    "        self.nombre = input('Ingrese el nombre del alumno: ')\n",
    "        self.apellido = input('Ingrese el apellido del alumno: ')\n",
    "        \n",
    "        while True:\n",
    "            nota = int (input('Ingrese una nota del 1 al 10: '))\n",
    "            if nota >=1 and nota <= 10:\n",
    "                self.notas.append(nota)\n",
    "            elif nota == 0:\n",
    "                break\n",
    "            else:\n",
    "                print('Ingreso un valor incorrecto')\n",
    "\n",
    "        for i in self.notas:\n",
    "            self.promedio += i\n",
    "        \n",
    "        self.promedio = self.promedio / len(self.notas)\n",
    "        \n",
    "        if self.promedio >= 7:\n",
    "            self.estado = 'Promociona'\n",
    "        elif self.promedio > 7 and self.promedio >= 4:\n",
    "            self.estado = 'Final'\n",
    "        else:\n",
    "            self.estado = 'Recursa'\n",
    "    \n",
    "    # Metodo magico __str__\n",
    "    def __str__(self):\n",
    "        \n",
    "        return f'Nombre: {self.nombre}\\nApellido: {self.apellido}\\nPromedio: {self.promedio}\\nEstado: {self.estado}'"
   ]
  }
 ],
 "metadata": {
  "kernelspec": {
   "display_name": "Python 3.10.2 64-bit",
   "language": "python",
   "name": "python3"
  },
  "language_info": {
   "codemirror_mode": {
    "name": "ipython",
    "version": 3
   },
   "file_extension": ".py",
   "mimetype": "text/x-python",
   "name": "python",
   "nbconvert_exporter": "python",
   "pygments_lexer": "ipython3",
   "version": "3.10.2"
  },
  "orig_nbformat": 4,
  "vscode": {
   "interpreter": {
    "hash": "60a02e4f58a95e140975077107666d45fd409c0834523c3ca1606b08608b094a"
   }
  }
 },
 "nbformat": 4,
 "nbformat_minor": 2
}

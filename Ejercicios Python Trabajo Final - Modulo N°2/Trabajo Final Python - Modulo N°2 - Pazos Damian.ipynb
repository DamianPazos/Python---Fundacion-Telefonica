{
 "cells": [
  {
   "cell_type": "markdown",
   "metadata": {},
   "source": [
    "<h1>Ejercicio N°1</h1>\n",
    "<h4>\n",
    "1.1) Generar una lista que contenga los números del 1 al 100, usando un FOR. </br>\n",
    "1.2) Escribir una función lambda, usando FILTER, que me devuelva, en formato LISTA, todos los números pares que también sean múltiplos de 5, contenidos en dicha lista.\n",
    "</h4>"
   ]
  },
  {
   "cell_type": "markdown",
   "metadata": {},
   "source": []
  },
  {
   "cell_type": "code",
   "execution_count": 3,
   "metadata": {},
   "outputs": [],
   "source": [
    "lista_numeros = []\n",
    "\n",
    "for i in range(100):\n",
    "    lista_numeros.append(i + 1)\n",
    "\n",
    "lista_filtrada = list(filter(lambda x: x % 2 == 0 and x % 5 == 0, lista_numeros))"
   ]
  },
  {
   "cell_type": "markdown",
   "metadata": {},
   "source": [
    "<h1>Ejercicio N°2</h1>\n",
    "<h4>\n",
    "Generar una lista, usando FOR con números del 1 al 100. Escribir una función lambda, usando REDUCE que me permita calcular el promedio de todos los números contenidos en la lista. No usar funciones tradicionales\n",
    "</h4>"
   ]
  },
  {
   "cell_type": "code",
   "execution_count": 4,
   "metadata": {},
   "outputs": [],
   "source": [
    "from functools import reduce\n",
    "\n",
    "lista_numeros = []\n",
    "\n",
    "for i in range(100):\n",
    "    lista_numeros.append(i + 1)\n",
    "\n",
    "promedio = float(reduce(lambda x,y: x + y,lista_numeros)/len(lista_numeros))"
   ]
  }
 ],
 "metadata": {
  "kernelspec": {
   "display_name": "Python 3.10.2 64-bit",
   "language": "python",
   "name": "python3"
  },
  "language_info": {
   "codemirror_mode": {
    "name": "ipython",
    "version": 3
   },
   "file_extension": ".py",
   "mimetype": "text/x-python",
   "name": "python",
   "nbconvert_exporter": "python",
   "pygments_lexer": "ipython3",
   "version": "3.10.2"
  },
  "orig_nbformat": 4,
  "vscode": {
   "interpreter": {
    "hash": "60a02e4f58a95e140975077107666d45fd409c0834523c3ca1606b08608b094a"
   }
  }
 },
 "nbformat": 4,
 "nbformat_minor": 2
}
